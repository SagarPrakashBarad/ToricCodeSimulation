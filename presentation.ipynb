{
 "cells": [
  {
   "cell_type": "markdown",
   "metadata": {
    "pycharm": {
     "name": "#%% md\n"
    }
   },
   "source": [
    "# Realizing topologically ordered states on a quantum processor"
   ]
  },
  {
   "cell_type": "markdown",
   "metadata": {
    "pycharm": {
     "name": "#%% md\n"
    }
   },
   "source": [
    "## Introduction\n",
    "\n",
    "\n",
    "Quantum computing, an idea proposed by Richard Feynman in his famous Caltech lecture, is a powerful possible future tool for solving various optimization and physical problems previously inaccessible to classical computers. The cornerstone of building of a reliable quantum computer is implementation of fault-tolerant computation procedure, which is not susceptible to external noise and allows performing long computations. Such fault-tolerant computing can be implemented, as shown by Kitaev, within braiding the so-called anyons, new exotic particles with non-trivial mutual statistics. The latter is the defining feature of anyons and means that the system wave function in 2 dimensions picks up a non-zero phase (or even changes to a different state) when moving one anyon around the other. This non-trivial phase is topologically protected and guarantees high degree of resistivity to noise. Later on, Kitaev proposed the lattice spin model, Toric code, in paper \"[Fault-tolerant quantum computation by anyons](https://arxiv.org/abs/quant-ph/9707021)\", in which those anyons are realized. Ironically, those anyons within this Toric code model were simulated by Google on a noisy superconducting computer. In this project, we aimed at reproduction of the results of this work.\n",
    "\n",
    "A good source for study is [Leggett's intro](https://courses.physics.illinois.edu/phys598PTD/fa2013/L26.pdf)\n",
    "to toric code."
   ]
  },
  {
   "cell_type": "markdown",
   "metadata": {
    "pycharm": {
     "name": "#%% md\n"
    }
   },
   "source": [
    "## Ground state preparation\n",
    "The toric code Hamiltonian\n",
    "$$ H = -\\sum_{s} A_{s} - \\sum_{p} B_{p}$$\n",
    "is defined in terms of qubits living on the edges of a square lattice.\n",
    "The \"star\" operators $A_s = \\prod_{i\\in s} Z_i$ are products of Pauli $Z$ operators touching each star ($+$, blue). The \"plaquette\" operators $B_p = \\prod_{j \\in p} X_j$ are products of Pauli $X$ operators on each plaquette ($\\square$, purple).\n",
    "\n",
    "Since all the operators in the toric code Hamiltonian commute, it is relatively simple to find ground state explicitly. For that we start from a state from which all stars are in ground state, i.e., $\\langle A_s \\rangle = 1$, which is in our case just $| 0 \\rangle^{\\otimes N}$ and then project it on the subspace for which $\\langle B_p \\rangle = 1$ by applying $(\\mathbb{I}+B_p)$ operator. This operator is then decomposed in a Hadamard operator on representative qubit, followed by a sequence of carefully ordered CNOT operators. This allows to prepare ground state in time linear in the width of the system."
   ]
  },
  {
   "cell_type": "code",
   "execution_count": null,
   "metadata": {
    "pycharm": {
     "is_executing": true,
     "name": "#%%\n"
    },
    "tags": []
   },
   "outputs": [],
   "source": [
    "from toric_code import get_toric_code\n",
    "\n",
    "x, y = 5, 7  # System size (should be odd)\n",
    "tc = get_toric_code(x, y)\n",
    "print(f'Number of qubits: {tc.circ.num_qubits}, depth: {tc.circ.depth()}')\n",
    "print(f'Plaquette count: {tc.plaquette_x}*{tc.plaquette_y}')"
   ]
  },
  {
   "cell_type": "code",
   "execution_count": null,
   "metadata": {
    "pycharm": {
     "name": "#%%\n"
    },
    "tags": []
   },
   "outputs": [],
   "source": [
    "tc.circ.draw('mpl')"
   ]
  },
  {
   "cell_type": "markdown",
   "metadata": {},
   "source": [
    "### Verify ground state preparation\n",
    "Ground state fulfills $A_s=B_p=1$, i.e., which we can check by applying corresponding operator to plaquettes and stars.\n"
   ]
  },
  {
   "cell_type": "code",
   "execution_count": null,
   "metadata": {
    "pycharm": {
     "name": "#%%\n"
    },
    "tags": []
   },
   "outputs": [],
   "source": [
    "from toric_code_tests.test_init import get_plaquette_ev\n",
    "\n",
    "import numpy as np\n",
    "from qiskit_aer import AerSimulator\n",
    "from qiskit import transpile\n",
    "\n",
    "from toric_code import get_toric_code\n",
    "from toric_code_matching import get_star_matching"
   ]
  },
  {
   "cell_type": "code",
   "execution_count": null,
   "metadata": {
    "pycharm": {
     "name": "#%%\n"
    },
    "tags": []
   },
   "outputs": [],
   "source": [
    "# Use Aer's simulator\n",
    "backend = AerSimulator(method='extended_stabilizer',)\n",
    "                       # max_memory_mb = -1)"
   ]
  },
  {
   "cell_type": "code",
   "execution_count": null,
   "metadata": {
    "pycharm": {
     "name": "#%%\n"
    },
    "tags": []
   },
   "outputs": [],
   "source": [
    "\n",
    "px, py = tc.plaquette_x, tc.plaquette_y\n",
    "\n",
    "for i in range(px):\n",
    "    for j in range(py):\n",
    "        ev = get_plaquette_ev(backend, (x, y), (i, j))\n",
    "        print(f'Plaquette ({i},{j}): {ev}')"
   ]
  },
  {
   "cell_type": "code",
   "execution_count": null,
   "metadata": {
    "pycharm": {
     "name": "#%%\n"
    },
    "tags": []
   },
   "outputs": [],
   "source": [
    "from toric_code_tests.test_init import get_star_ev\n",
    "\n",
    "sx, sy = tc.star_x, tc.star_y\n",
    "\n",
    "for i in range(sx):\n",
    "    for j in range(sy):\n",
    "        if len(get_star_matching(i, j, tc.y, tc.x)) < 4:\n",
    "            continue\n",
    "\n",
    "        ev = get_star_ev(backend, (x, y), (i, j))\n",
    "        print(f'Star ({i},{j}): {ev}')"
   ]
  },
  {
   "cell_type": "markdown",
   "metadata": {
    "pycharm": {
     "name": "#%% md\n"
    }
   },
   "source": [
    "### Entropy\n",
    "Topological entropy is a property of many-body system. While entangelement entropy of the ground often follows area law, the constant correction to this value is called topological entropy. Since this value is independent on the size of the subsystem, it captures the universal properties and its non-zero value is an evidence to the presence of long range quantum entanglement.\n",
    "\n",
    "The topological entropy can be calculated using [Kitaev-Preskill](https://arxiv.org/abs/hep-th/0510092) formula:\n",
    "$$S_{\\text{topo}} \\equiv S_A + S_B + S_C − S_{AB} − S_{BC} − S_{AC} + S_{ABC}$$\n",
    "\n",
    "In case of toric code, the total entropy is proportional to the number of the stars touched by the boundary of the subsystem (red line in a figure below).\n",
    "\n",
    "Here we'll demonstrate calculations of both second Rényi entropy and for a single $2\\times 3$ subsystem. For that we use randomized measurement (RM) protocol. The details can be found in the supplementary material of the paper."
   ]
  },
  {
   "cell_type": "code",
   "execution_count": null,
   "metadata": {
    "pycharm": {
     "name": "#%%\n"
    },
    "tags": []
   },
   "outputs": [],
   "source": [
    "from topo_entropy import get_all_2x3_left_non_corner\n",
    "\n",
    "expected_values = [(2., 2., 2.), (4., 3., 4.), (4.,)]\n",
    "\n",
    "qubits = get_all_2x3_left_non_corner((x, y))[0]"
   ]
  },
  {
   "cell_type": "code",
   "execution_count": null,
   "metadata": {
    "pycharm": {
     "name": "#%%\n"
    },
    "tags": []
   },
   "outputs": [],
   "source": [
    "from topo_entropy import calculate_s_subsystems, ABC_DIVISION_2x3_LEFT\n",
    "from tqdm import tqdm\n",
    "import itertools"
   ]
  },
  {
   "cell_type": "markdown",
   "metadata": {},
   "source": [
    "Pauli basis: measure in every possible combination of Pauli basis ($3^6$ options)."
   ]
  },
  {
   "cell_type": "code",
   "execution_count": null,
   "metadata": {
    "pycharm": {
     "name": "#%%\n"
    },
    "tags": []
   },
   "outputs": [],
   "source": [
    "all_counts = []\n",
    "\n",
    "all_gates = [''.join(x) for x in itertools.product('xyz', repeat=len(qubits))]\n",
    "for gates in tqdm(all_gates):\n",
    "    tc = get_toric_code(x, y, len(qubits))\n",
    "\n",
    "    tc.measure_pauli(qubits, gates)\n",
    "\n",
    "    job = backend.run(transpile(tc.circ, backend), shots=15000)  # note: number of shots is important\n",
    "    result = job.result()\n",
    "    counts = result.get_counts(tc.circ)\n",
    "    all_counts.append(counts)\n",
    "calculated_values = calculate_s_subsystems(all_counts, ABC_DIVISION_2x3_LEFT)\n",
    "for expect, calc in zip(expected_values, calculated_values):\n",
    "    for ve, vc in zip(expect, calc):\n",
    "        print(f'Theoretical value of S/ln(2): {ve}. Measured value: {vc / np.log(2)} ')\n",
    "\n",
    "Stopo = sum(calculated_values[0]) - sum(calculated_values[1]) + sum(calculated_values[2])\n",
    "print(f'Theoretical value of Stopo/ln(2): -1. Measured value: {Stopo / np.log(2)} ')"
   ]
  },
  {
   "cell_type": "markdown",
   "metadata": {},
   "source": [
    "Randomized measurement: measure after random unitary drawn from Haar distribution."
   ]
  },
  {
   "cell_type": "markdown",
   "metadata": {
    "pycharm": {
     "name": "#%% md\n"
    }
   },
   "source": [
    "### Braiding\n",
    "There are three types of quasiparticle $e$, $m$ and $\\psi$. We demonstrate braiding of $e$ with $m$,\n",
    " as well as fermionic exchange statistics of $\\psi$.\n",
    " \n",
    "For instance, to measure the mutual statistics between the $e$ and $m$ anyons, we start with the preparation of the toric code ground state, then create the anyons and braid them using the controlled $XXXX$ operator. The resulting phase is measured within the Hadamard test protocol with an ancila qubit."
   ]
  },
  {
   "cell_type": "code",
   "execution_count": null,
   "metadata": {
    "pycharm": {
     "name": "#%%\n"
    },
    "tags": []
   },
   "outputs": [],
   "source": [
    "from topo_braiding import apply_cxxxx_on_square, create_e_particles, create_m_particles, apply_cxxyyzz_on_rectangle"
   ]
  },
  {
   "cell_type": "code",
   "execution_count": null,
   "metadata": {
    "pycharm": {
     "name": "#%%\n"
    },
    "tags": []
   },
   "outputs": [],
   "source": [
    "for sq in [(0, 2), (0, 3), (2, 2), (2, 1)]:\n",
    "    tc = get_toric_code(x, y, classical_bit_count=1, ancillas_count=1)\n",
    "\n",
    "    x_string = [(2, 1), (2, 2)]\n",
    "    create_e_particles(tc, x_string)\n",
    "\n",
    "    z_string = [(1, 4), (0, 3), (1, 3)]  # , (0,2), (1,2)]\n",
    "    create_m_particles(tc, z_string)\n",
    "\n",
    "    tc.circ.h(tc.ancillas[0])\n",
    "    apply_cxxxx_on_square(tc, sq)\n",
    "    tc.circ.h(tc.ancillas[0])\n",
    "\n",
    "    tc.circ.measure(tc.ancillas[0], 0)\n",
    "    Nshots = 10000\n",
    "    job = backend.run(transpile(tc.circ, backend), shots=Nshots)\n",
    "    result = job.result()\n",
    "    counts = result.get_counts(tc.circ)\n",
    "\n",
    "    if '0' not in counts:\n",
    "        counts['0'] = 0\n",
    "    if '1' not in counts:\n",
    "        counts['1'] = 0\n",
    "\n",
    "    cos_theta = (counts['0'] - counts['1']) / Nshots\n",
    "    expected_res = -1. if sq in [(0, 2), (0, 3)] else 1.\n",
    "    print(f'Expected value of cos(theta): {expected_res}. Measured value: {cos_theta}')"
   ]
  },
  {
   "cell_type": "code",
   "execution_count": null,
   "metadata": {
    "pycharm": {
     "name": "#%%\n"
    },
    "tags": []
   },
   "outputs": [],
   "source": [
    "sq = (0, 3)\n",
    "tc = get_toric_code(x, y, classical_bit_count=1, ancillas_count=1)\n",
    "\n",
    "x_strings = [[(2, 1), (2, 2)],\n",
    "             [(1, 4), (3, 4)]]\n",
    "for x_string in x_strings:\n",
    "    create_e_particles(tc, x_string)\n",
    "\n",
    "z_strings = [[(2, 3), (3, 3), (4, 3)],\n",
    "             [(3, 1), (4, 1), (3, 2)], ]\n",
    "for z_string in z_strings:\n",
    "    create_m_particles(tc, z_string)\n",
    "\n",
    "tc.circ.h(tc.ancillas[0])\n",
    "apply_cxxyyzz_on_rectangle(tc, sq)\n",
    "tc.circ.h(tc.ancillas[0])\n",
    "\n",
    "tc.circ.measure(tc.ancillas[0], 0)\n",
    "Nshots = 10000\n",
    "job = backend.run(transpile(tc.circ, backend), shots=Nshots)\n",
    "result = job.result()\n",
    "counts = result.get_counts(tc.circ)\n",
    "\n",
    "if '0' not in counts:\n",
    "    counts['0'] = 0\n",
    "if '1' not in counts:\n",
    "    counts['1'] = 0\n",
    "print(counts)\n",
    "\n",
    "cos_theta = (counts['0'] - counts['1']) / Nshots\n",
    "expected_res = -1.\n",
    "print(f'Expected value of cos(theta): {expected_res}. Measured value: {cos_theta}')"
   ]
  },
  {
   "cell_type": "code",
   "execution_count": null,
   "metadata": {},
   "outputs": [],
   "source": []
  }
 ],
 "metadata": {
  "kernelspec": {
   "display_name": "cuQuantum",
   "language": "python",
   "name": "cuquantum"
  },
  "language_info": {
   "codemirror_mode": {
    "name": "ipython",
    "version": 3
   },
   "file_extension": ".py",
   "mimetype": "text/x-python",
   "name": "python",
   "nbconvert_exporter": "python",
   "pygments_lexer": "ipython3",
   "version": "3.8.13"
  }
 },
 "nbformat": 4,
 "nbformat_minor": 4
}
